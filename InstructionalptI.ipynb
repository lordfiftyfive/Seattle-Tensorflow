{
  "nbformat": 4,
  "nbformat_minor": 0,
  "metadata": {
    "colab": {
      "name": "InstructionalptI.ipynb",
      "provenance": [],
      "collapsed_sections": [],
      "authorship_tag": "ABX9TyN2Bxozl+qWk+pQUwD/FwBq",
      "include_colab_link": true
    },
    "kernelspec": {
      "name": "python3",
      "display_name": "Python 3"
    }
  },
  "cells": [
    {
      "cell_type": "markdown",
      "metadata": {
        "id": "view-in-github",
        "colab_type": "text"
      },
      "source": [
        "<a href=\"https://colab.research.google.com/github/lordfiftyfive/Seattle-Tensorflow/blob/master/InstructionalptI.ipynb\" target=\"_parent\"><img src=\"https://colab.research.google.com/assets/colab-badge.svg\" alt=\"Open In Colab\"/></a>"
      ]
    },
    {
      "cell_type": "markdown",
      "metadata": {
        "id": "91CKWv2HO24E",
        "colab_type": "text"
      },
      "source": [
        "If you do NOT have the following libraries installed on your local machine then you will want to:\n",
        " 1. install anaconda navigator and install the spyder enviroment withen anaconda navigator \n",
        " 2. open up a terminal withen anaconda navigator and use conda install (name of library)\n",
        "\n",
        "\n",
        "\n",
        " \n",
        " "
      ]
    },
    {
      "cell_type": "code",
      "metadata": {
        "id": "tFvCEJw9MlPl",
        "colab_type": "code",
        "outputId": "278bec05-ca3e-4a4a-8d60-b5f7cda13208",
        "colab": {
          "base_uri": "https://localhost:8080/",
          "height": 419
        }
      },
      "source": [
        "!pip install quandl\n"
      ],
      "execution_count": 0,
      "outputs": [
        {
          "output_type": "stream",
          "text": [
            "Collecting quandl\n",
            "  Downloading https://files.pythonhosted.org/packages/07/ab/8cd479fba8a9b197a43a0d55dd534b066fb8e5a0a04b5c0384cbc5d663aa/Quandl-3.5.0-py2.py3-none-any.whl\n",
            "Collecting inflection>=0.3.1\n",
            "  Downloading https://files.pythonhosted.org/packages/d5/35/a6eb45b4e2356fe688b21570864d4aa0d0a880ce387defe9c589112077f8/inflection-0.3.1.tar.gz\n",
            "Requirement already satisfied: more-itertools in /usr/local/lib/python3.6/dist-packages (from quandl) (8.0.2)\n",
            "Requirement already satisfied: pandas>=0.14 in /usr/local/lib/python3.6/dist-packages (from quandl) (0.25.3)\n",
            "Requirement already satisfied: python-dateutil in /usr/local/lib/python3.6/dist-packages (from quandl) (2.6.1)\n",
            "Requirement already satisfied: numpy>=1.8 in /usr/local/lib/python3.6/dist-packages (from quandl) (1.17.5)\n",
            "Requirement already satisfied: requests>=2.7.0 in /usr/local/lib/python3.6/dist-packages (from quandl) (2.21.0)\n",
            "Requirement already satisfied: six in /usr/local/lib/python3.6/dist-packages (from quandl) (1.12.0)\n",
            "Requirement already satisfied: pytz>=2017.2 in /usr/local/lib/python3.6/dist-packages (from pandas>=0.14->quandl) (2018.9)\n",
            "Requirement already satisfied: urllib3<1.25,>=1.21.1 in /usr/local/lib/python3.6/dist-packages (from requests>=2.7.0->quandl) (1.24.3)\n",
            "Requirement already satisfied: certifi>=2017.4.17 in /usr/local/lib/python3.6/dist-packages (from requests>=2.7.0->quandl) (2019.11.28)\n",
            "Requirement already satisfied: chardet<3.1.0,>=3.0.2 in /usr/local/lib/python3.6/dist-packages (from requests>=2.7.0->quandl) (3.0.4)\n",
            "Requirement already satisfied: idna<2.9,>=2.5 in /usr/local/lib/python3.6/dist-packages (from requests>=2.7.0->quandl) (2.8)\n",
            "Building wheels for collected packages: inflection\n",
            "  Building wheel for inflection (setup.py) ... \u001b[?25l\u001b[?25hdone\n",
            "  Created wheel for inflection: filename=inflection-0.3.1-cp36-none-any.whl size=6076 sha256=5acd675758d0c135d4489884d8a94d4c7e34029acdab1782fbdd9439267dbe8c\n",
            "  Stored in directory: /root/.cache/pip/wheels/9f/5a/d3/6fc3bf6516d2a3eb7e18f9f28b472110b59325f3f258fe9211\n",
            "Successfully built inflection\n",
            "Installing collected packages: inflection, quandl\n",
            "Successfully installed inflection-0.3.1 quandl-3.5.0\n"
          ],
          "name": "stdout"
        }
      ]
    },
    {
      "cell_type": "code",
      "metadata": {
        "id": "tfNwAr7UNjHz",
        "colab_type": "code",
        "colab": {}
      },
      "source": [
        "from sklearn.decomposition import PCA, KernelPCA\n",
        "import matplotlib.pyplot as plt\n",
        "from sklearn.preprocessing import MinMaxScaler\n",
        "import numpy as np\n",
        "import quandl\n",
        "import pandas as pd"
      ],
      "execution_count": 0,
      "outputs": []
    },
    {
      "cell_type": "markdown",
      "metadata": {
        "id": "uYoIdS-gKi3v",
        "colab_type": "text"
      },
      "source": [
        "    First we are going to want to import our data here we are going to show how\n",
        "     to import using one of the most common data format which is the csv file "
      ]
    },
    {
      "cell_type": "code",
      "metadata": {
        "id": "YAAC80oFgrvn",
        "colab_type": "code",
        "outputId": "117c4255-762e-4be8-d3f0-925e27bab2d6",
        "colab": {
          "resources": {
            "http://localhost:8080/nbextensions/google.colab/files.js": {
              "data": "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",
              "ok": true,
              "headers": [
                [
                  "content-type",
                  "application/javascript"
                ]
              ],
              "status": 200,
              "status_text": "OK"
            }
          },
          "base_uri": "https://localhost:8080/",
          "height": 109
        }
      },
      "source": [
        "from google.colab import files\n",
        "files.upload()"
      ],
      "execution_count": 0,
      "outputs": [
        {
          "output_type": "display_data",
          "data": {
            "text/html": [
              "\n",
              "     <input type=\"file\" id=\"files-e2c77bc0-7fbd-4ac3-ad7e-48f0aa45c6aa\" name=\"files[]\" multiple disabled />\n",
              "     <output id=\"result-e2c77bc0-7fbd-4ac3-ad7e-48f0aa45c6aa\">\n",
              "      Upload widget is only available when the cell has been executed in the\n",
              "      current browser session. Please rerun this cell to enable.\n",
              "      </output>\n",
              "      <script src=\"/nbextensions/google.colab/files.js\"></script> "
            ],
            "text/plain": [
              "<IPython.core.display.HTML object>"
            ]
          },
          "metadata": {
            "tags": []
          }
        },
        {
          "output_type": "stream",
          "text": [
            "Saving 930-data-export.csv to 930-data-export (1).csv\n"
          ],
          "name": "stdout"
        },
        {
          "output_type": "execute_result",
          "data": {
            "text/plain": [
              "{'930-data-export.csv': b'\\xef\\xbb\\xbf\"Region Code\",\"Timestamp (Hour Ending)\",\"Demand (MWh)\",\"Demand Forecast (MWh)\",\"Net Generation (MWh)\",\"Total Interchange (MWh)\"\\nUS48,\"1/13/2020 12 a.m. EST\",412290,407010,392570,2977\\nUS48,\"1/13/2020 1 a.m. EST\",396187,389484,384466,3557\\nUS48,\"1/13/2020 2 a.m. EST\",383358,378106,373763,3755\\nUS48,\"1/13/2020 3 a.m. EST\",376657,371685,368427,3617\\nUS48,\"1/13/2020 4 a.m. EST\",373911,371433,365626,3968\\nUS48,\"1/13/2020 5 a.m. EST\",377435,379238,372388,3885\\nUS48,\"1/13/2020 6 a.m. EST\",391321,398288,390232,3724\\nUS48,\"1/13/2020 7 a.m. EST\",420939,426194,419251,4251\\nUS48,\"1/13/2020 8 a.m. EST\",451411,449840,445065,4899\\nUS48,\"1/13/2020 9 a.m. EST\",466590,462151,458984,3777\\nUS48,\"1/13/2020 10 a.m. EST\",474128,466698,463784,2587\\nUS48,\"1/13/2020 11 a.m. EST\",476935,467473,465528,2413\\nUS48,\"1/13/2020 12 p.m. EST\",473527,463802,464555,3258\\nUS48,\"1/13/2020 1 p.m. EST\",469042,458334,459451,3658\\nUS48,\"1/13/2020 2 p.m. EST\",463807,454026,454014,3540\\nUS48,\"1/13/2020 3 p.m. EST\",461050,450478,450718,2629\\nUS48,\"1/13/2020 4 p.m. EST\",482699,449834,449548,2667\\nUS48,\"1/13/2020 5 p.m. EST\",457355,456182,454486,3712\\nUS48,\"1/13/2020 6 p.m. EST\",466943,464312,461205,4701\\nUS48,\"1/13/2020 7 p.m. EST\",479553,473890,469744,4811\\nUS48,\"1/13/2020 8 p.m. EST\",483558,476427,473429,2882\\nUS48,\"1/13/2020 9 p.m. EST\",479106,472856,465850,4294\\nUS48,\"1/13/2020 10 p.m. EST\",465532,458270,449632,3168\\nUS48,\"1/13/2020 11 p.m. EST\",468760,437842,432086,2516\\nUS48,\"1/14/2020 12 a.m. EST\",426254,416012,405418,2353\\nUS48,\"1/14/2020 1 a.m. EST\",402196,397248,390650,2659\\nUS48,\"1/14/2020 2 a.m. EST\",393223,384741,380533,1929\\nUS48,\"1/14/2020 3 a.m. EST\",382796,376001,372151,2638\\nUS48,\"1/14/2020 4 a.m. EST\",378596,373408,368678,1984\\nUS48,\"1/14/2020 5 a.m. EST\",379293,379332,372224,2172\\nUS48,\"1/14/2020 6 a.m. EST\",389607,396075,384969,1834\\nUS48,\"1/14/2020 7 a.m. EST\",413958,421503,410263,2027\\nUS48,\"1/14/2020 8 a.m. EST\",439522,443869,431831,3126\\nUS48,\"1/14/2020 9 a.m. EST\",451986,454713,444514,3983\\nUS48,\"1/14/2020 10 a.m. EST\",459440,460033,449327,3426\\nUS48,\"1/14/2020 11 a.m. EST\",462488,461730,451464,3146\\nUS48,\"1/14/2020 12 p.m. EST\",460619,458973,450228,3225\\nUS48,\"1/14/2020 1 p.m. EST\",457269,455698,447608,3399\\nUS48,\"1/14/2020 2 p.m. EST\",454194,453132,444387,3722\\nUS48,\"1/14/2020 3 p.m. EST\",451344,451396,441137,2448\\nUS48,\"1/14/2020 4 p.m. EST\",475519,451950,441885,2692\\nUS48,\"1/14/2020 5 p.m. EST\",430021,457626,445378,2934\\nUS48,\"1/14/2020 6 p.m. EST\",460054,465145,452756,3774\\nUS48,\"1/14/2020 7 p.m. EST\",470792,473445,457782,3160\\nUS48,\"1/14/2020 8 p.m. EST\",474856,475349,459931,1584\\nUS48,\"1/14/2020 9 p.m. EST\",472403,471739,455844,1124\\nUS48,\"1/14/2020 10 p.m. EST\",460373,457830,442975,1406\\nUS48,\"1/14/2020 11 p.m. EST\",464057,437439,424745,506\\nUS48,\"1/15/2020 12 a.m. EST\",423781,415531,408584,1553\\nUS48,\"1/15/2020 1 a.m. EST\",404545,398414,391260,2385\\nUS48,\"1/15/2020 2 a.m. EST\",390897,383257,379225,3133\\nUS48,\"1/15/2020 3 a.m. EST\",381912,374153,370792,2438\\nUS48,\"1/15/2020 4 a.m. EST\",376392,371155,367256,2993\\nUS48,\"1/15/2020 5 a.m. EST\",377778,376498,370556,2357\\nUS48,\"1/15/2020 6 a.m. EST\",386077,393515,382691,1650\\nUS48,\"1/15/2020 7 a.m. EST\",411111,418421,405967,1977\\nUS48,\"1/15/2020 8 a.m. EST\",435987,440003,425928,1769\\nUS48,\"1/15/2020 9 a.m. EST\",447084,450958,436535,2195\\nUS48,\"1/15/2020 10 a.m. EST\",452808,456744,439517,1282\\nUS48,\"1/15/2020 11 a.m. EST\",453618,458837,440404,1511\\nUS48,\"1/15/2020 12 p.m. EST\",452786,456530,440169,1098\\nUS48,\"1/15/2020 1 p.m. EST\",449322,453996,437929,2121\\nUS48,\"1/15/2020 2 p.m. EST\",446829,451406,436209,2677\\nUS48,\"1/15/2020 3 p.m. EST\",445870,450391,436247,2975\\nUS48,\"1/15/2020 4 p.m. EST\",446390,451163,438899,3178\\nUS48,\"1/15/2020 5 p.m. EST\",450168,457255,445729,3362\\nUS48,\"1/15/2020 6 p.m. EST\",459824,464361,453110,3740\\nUS48,\"1/15/2020 7 p.m. EST\",469828,472660,457287,3146\\nUS48,\"1/15/2020 8 p.m. EST\",473300,474951,460937,3711\\nUS48,\"1/15/2020 9 p.m. EST\",469198,470495,454558,3225\\nUS48,\"1/15/2020 10 p.m. EST\",458489,456152,442481,3191\\nUS48,\"1/15/2020 11 p.m. EST\",441342,436164,424819,2232\\nUS48,\"1/16/2020 12 a.m. EST\",421109,414336,407062,1957\\nUS48,\"1/16/2020 1 a.m. EST\",402523,396276,387895,2227\\nUS48,\"1/16/2020 2 a.m. EST\",389979,383396,376707,2857\\nUS48,\"1/16/2020 3 a.m. EST\",381205,374526,368137,2818\\nUS48,\"1/16/2020 4 a.m. EST\",376492,372192,366204,3257\\nUS48,\"1/16/2020 5 a.m. EST\",378562,378398,370227,3585\\nUS48,\"1/16/2020 6 a.m. EST\",388591,395500,384456,3633\\nUS48,\"1/16/2020 7 a.m. EST\",415832,422221,409464,4049\\nUS48,\"1/16/2020 8 a.m. EST\",444906,446143,431596,4385\\nUS48,\"1/16/2020 9 a.m. EST\",460077,459092,442993,3918\\nUS48,\"1/16/2020 10 a.m. EST\",467868,465944,450332,3690\\nUS48,\"1/16/2020 11 a.m. EST\",470695,468643,453210,4610\\nUS48,\"1/16/2020 12 p.m. EST\",469098,467089,456565,3935\\nUS48,\"1/16/2020 1 p.m. EST\",466975,463873,447874,4067\\nUS48,\"1/16/2020 2 p.m. EST\",465834,461117,451952,4409\\nUS48,\"1/16/2020 3 p.m. EST\",464640,459333,449061,4014\\nUS48,\"1/16/2020 4 p.m. EST\",463291,460113,450851,4575\\nUS48,\"1/16/2020 5 p.m. EST\",467242,465923,458895,4375\\nUS48,\"1/16/2020 6 p.m. EST\",478388,474473,467337,4650\\nUS48,\"1/16/2020 7 p.m. EST\",494333,485605,478102,4243\\nUS48,\"1/16/2020 8 p.m. EST\",500163,490752,480858,3976\\nUS48,\"1/16/2020 9 p.m. EST\",500130,489351,477930,3496\\nUS48,\"1/16/2020 10 p.m. EST\",489860,477750,467695,3543\\nUS48,\"1/16/2020 11 p.m. EST\",471619,459509,452385,3449\\nUS48,\"1/17/2020 12 a.m. EST\",452181,439536,423538,3335\\nUS48,\"1/17/2020 1 a.m. EST\",433846,422052,418267,3426\\nUS48,\"1/17/2020 2 a.m. EST\",421202,380746,414561,5184\\nUS48,\"1/17/2020 3 a.m. EST\",413935,375901,405237,4991\\nUS48,\"1/17/2020 4 a.m. EST\",411358,366957,403435,4380\\nUS48,\"1/17/2020 5 a.m. EST\",413997,374773,408271,4780\\nUS48,\"1/17/2020 6 a.m. EST\",426062,393458,425060,5340\\nUS48,\"1/17/2020 7 a.m. EST\",453110,419712,451322,6048\\nUS48,\"1/17/2020 8 a.m. EST\",479239,439736,473428,6235\\nUS48,\"1/17/2020 9 a.m. EST\",490382,447931,481274,5779\\nUS48,\"1/17/2020 10 a.m. EST\",493854,449424,483557,5204\\nUS48,\"1/17/2020 11 a.m. EST\",493711,447301,483216,4587\\nUS48,\"1/17/2020 12 p.m. EST\",487661,440762,479145,5065\\nUS48,\"1/17/2020 1 p.m. EST\",480618,433545,471638,4494\\nUS48,\"1/17/2020 2 p.m. EST\",473928,427174,466370,4044\\nUS48,\"1/17/2020 3 p.m. EST\",469032,423021,464051,4420\\nUS48,\"1/17/2020 4 p.m. EST\",466812,422537,462432,4718\\nUS48,\"1/17/2020 5 p.m. EST\",469378,428662,469764,4871\\nUS48,\"1/17/2020 6 p.m. EST\",480058,435637,477613,4928\\nUS48,\"1/17/2020 7 p.m. EST\",491120,443903,484842,5788\\nUS48,\"1/17/2020 8 p.m. EST\",493264,445551,484976,3933\\nUS48,\"1/17/2020 9 p.m. EST\",490031,442951,481725,3391\\nUS48,\"1/17/2020 10 p.m. EST\",480364,433526,469279,3414\\nUS48,\"1/17/2020 11 p.m. EST\",466193,419140,454255,3303\\nUS48,\"1/18/2020 12 a.m. EST\",449235,401839,434138,3199\\nUS48,\"1/18/2020 1 a.m. EST\",433455,388656,421878,2270\\nUS48,\"1/18/2020 2 a.m. EST\",420028,372626,409100,2355\\nUS48,\"1/18/2020 3 a.m. EST\",411290,365135,399490,1926\\nUS48,\"1/18/2020 4 a.m. EST\",403807,361397,392853,1840\\nUS48,\"1/18/2020 5 a.m. EST\",401604,362077,391554,1805\\nUS48,\"1/18/2020 6 a.m. EST\",403735,367773,395401,2049\\nUS48,\"1/18/2020 7 a.m. EST\",411079,378200,402849,2093\\nUS48,\"1/18/2020 8 a.m. EST\",424436,390290,417573,2553\\nUS48,\"1/18/2020 9 a.m. EST\",439066,402458,431115,3460\\nUS48,\"1/18/2020 10 a.m. EST\",451145,410937,443886,3098\\nUS48,\"1/18/2020 11 a.m. EST\",459660,413546,452103,3525\\nUS48,\"1/18/2020 12 p.m. EST\",461354,410803,454531,4647\\nUS48,\"1/18/2020 1 p.m. EST\",459199,405154,451092,5119\\nUS48,\"1/18/2020 2 p.m. EST\",454938,399495,447161,5827\\nUS48,\"1/18/2020 3 p.m. EST\",449758,395506,443544,5781\\nUS48,\"1/18/2020 4 p.m. EST\",446429,394950,440793,5971\\nUS48,\"1/18/2020 5 p.m. EST\",447368,398538,445400,6110\\nUS48,\"1/18/2020 6 p.m. EST\",473412,404974,448718,6100\\nUS48,\"1/18/2020 7 p.m. EST\",443344,412539,453812,5362\\nUS48,\"1/18/2020 8 p.m. EST\",464828,414127,454741,5014\\nUS48,\"1/18/2020 9 p.m. EST\",462589,412109,449293,3377\\nUS48,\"1/18/2020 10 p.m. EST\",453773,403453,441626,2857\\nUS48,\"1/18/2020 11 p.m. EST\",442659,390545,429944,2445\\nUS48,\"1/19/2020 12 a.m. EST\",448545,377311,424081,3058\\nUS48,\"1/19/2020 1 a.m. EST\",415392,366128,404352,3040\\nUS48,\"1/19/2020 2 a.m. EST\",406575,393819,395701,3024\\nUS48,\"1/19/2020 3 a.m. EST\",399181,387163,388859,3028\\nUS48,\"1/19/2020 4 a.m. EST\",395031,385568,386262,2497\\nUS48,\"1/19/2020 5 a.m. EST\",395321,387924,386332,2502\\nUS48,\"1/19/2020 6 a.m. EST\",397897,395113,390421,2386\\nUS48,\"1/19/2020 7 a.m. EST\",407317,406588,400497,2603\\nUS48,\"1/19/2020 8 a.m. EST\",420885,422149,414908,2442\\nUS48,\"1/19/2020 9 a.m. EST\",437903,437758,430369,2238\\nUS48,\"1/19/2020 10 a.m. EST\",450853,448011,441232,1938\\nUS48,\"1/19/2020 11 a.m. EST\",453333,449959,443947,2698\\nUS48,\"1/19/2020 12 p.m. EST\",450411,447103,441130,2790\\nUS48,\"1/19/2020 1 p.m. EST\",446021,442747,437446,3156\\nUS48,\"1/19/2020 2 p.m. EST\",441024,437561,432136,2950\\nUS48,\"1/19/2020 3 p.m. EST\",437243,433406,428784,3306\\nUS48,\"1/19/2020 4 p.m. EST\",435576,433123,428925,3396\\nUS48,\"1/19/2020 5 p.m. EST\",441111,440722,436943,3650\\nUS48,\"1/19/2020 6 p.m. EST\",457449,454606,449841,2367\\nUS48,\"1/19/2020 7 p.m. EST\",476716,472078,465921,2145\\nUS48,\"1/19/2020 8 p.m. EST\",487422,481477,475861,2044\\nUS48,\"1/19/2020 9 p.m. EST\",491662,483401,477096,921\\nUS48,\"1/19/2020 10 p.m. EST\",485619,477366,471310,1944\\nUS48,\"1/19/2020 11 p.m. EST\",475857,465917,461410,2389\\nUS48,\"1/20/2020 12 a.m. EST\",461223,451050,439557,2738\\nUS48,\"1/20/2020 1 a.m. EST\",449412,439423,,\\nUS48,\"1/20/2020 2 a.m. EST\",442192,433385,,\\nUS48,\"1/20/2020 3 a.m. EST\",438007,430647,,\\nUS48,\"1/20/2020 4 a.m. EST\",437428,434272,,\\nUS48,\"1/20/2020 5 a.m. EST\",442598,444052,,\\nUS48,\"1/20/2020 6 a.m. EST\",456569,462500,,\\nUS48,\"1/20/2020 7 a.m. EST\",480598,487170,,\\nUS48,\"1/20/2020 8 a.m. EST\",505034,509542,,\\nUS48,\"1/20/2020 9 a.m. EST\",520114,521154,,\\nUS48,\"1/20/2020 10 a.m. EST\",525757,521796,,\\nUS48,\"1/20/2020 11 a.m. EST\",523017,515462,,\\nUS48,\"1/20/2020 12 p.m. EST\",516270,506293,,\\nUS48,\"1/20/2020 1 p.m. EST\",506637,494807,,\\nUS48,\"1/20/2020 2 p.m. EST\",,485316,,\\nUS48,\"1/20/2020 3 p.m. EST\",,477848,,\\nUS48,\"1/20/2020 4 p.m. EST\",,475395,,\\nUS48,\"1/20/2020 5 p.m. EST\",,482383,,\\nUS48,\"1/20/2020 6 p.m. EST\",,496691,,\\nUS48,\"1/20/2020 7 p.m. EST\",,515522,,\\nUS48,\"1/20/2020 8 p.m. EST\",,525340,,\\nUS48,\"1/20/2020 9 p.m. EST\",,525704,,\\nUS48,\"1/20/2020 10 p.m. EST\",,515812,,\\nUS48,\"1/20/2020 11 p.m. EST\",,498895,,\\nUS48,\"1/21/2020 12 a.m. EST\",,481688,,\\n'}"
            ]
          },
          "metadata": {
            "tags": []
          },
          "execution_count": 13
        }
      ]
    },
    {
      "cell_type": "code",
      "metadata": {
        "id": "9PszKmVvgIbG",
        "colab_type": "code",
        "outputId": "611beadc-86c1-4227-d76c-e250c2d83e3a",
        "colab": {
          "base_uri": "https://localhost:8080/",
          "height": 260
        }
      },
      "source": [
        " electricity = pd.read_csv('930-data-export.csv')\n",
        " print(electricity)"
      ],
      "execution_count": 0,
      "outputs": [
        {
          "output_type": "stream",
          "text": [
            "    Region Code  ... Total Interchange (MWh)\n",
            "0          US48  ...                  2977.0\n",
            "1          US48  ...                  3557.0\n",
            "2          US48  ...                  3755.0\n",
            "3          US48  ...                  3617.0\n",
            "4          US48  ...                  3968.0\n",
            "..          ...  ...                     ...\n",
            "188        US48  ...                     NaN\n",
            "189        US48  ...                     NaN\n",
            "190        US48  ...                     NaN\n",
            "191        US48  ...                     NaN\n",
            "192        US48  ...                     NaN\n",
            "\n",
            "[193 rows x 6 columns]\n"
          ],
          "name": "stdout"
        }
      ]
    },
    {
      "cell_type": "markdown",
      "metadata": {
        "id": "RywEUlRkJ7W4",
        "colab_type": "text"
      },
      "source": [
        "https://www.eia.gov/beta/electricity/gridmonitor/dashboard/electric_overview/US48/US48?src=email"
      ]
    },
    {
      "cell_type": "code",
      "metadata": {
        "id": "qLvB2yxOML9P",
        "colab_type": "code",
        "outputId": "dc2f0536-2d50-45d0-c6ad-089b79c31b7e",
        "colab": {
          "base_uri": "https://localhost:8080/",
          "height": 365
        }
      },
      "source": [
        "\n",
        "Data_to_predict = quandl.get(\"FRBP/GDPPLUS_042619\",  collapse=\"quarterly\")\n",
        "datafive = quandl.get(\"FRED/PCETRIM1M158SFRBDAL\",  collapse=\"quarterly\", start_date=\"1977-02-01\",end_date=\"2016-03-31\")#quandl.get(\"FRED/VALEXPUSM052N\", authtoken=\"DNMZo2iRzVENxpxqHBKF\", transform=\"rdiff\", collapse=\"quarterly\", start_date=\"1960-09-30\")#quandl.get(\"WWDI/USA_NE_GDI_TOTL_CD\", authtoken=\"DNMZo2iRzVENxpxqHBKF\", start_date=\"1970-12-31\")\n",
        "Data_To_predict = Data_to_predict.values\n",
        "#the below column reduces the dimension of the data set by 1. We need to do this sometimes in order to put it into a pandas dataframe which we can easily manipulate\n",
        "\n",
        "electricity= pd.DataFrame(electricity)\n",
        "datafive= pd.DataFrame(datafive)\n",
        "\n",
        "plt.plot(datafive)\n",
        "print(datafive)\n",
        "print(electricity)\n"
      ],
      "execution_count": 0,
      "outputs": [
        {
          "output_type": "error",
          "ename": "LimitExceededError",
          "evalue": "ignored",
          "traceback": [
            "\u001b[0;31m---------------------------------------------------------------------------\u001b[0m",
            "\u001b[0;31mLimitExceededError\u001b[0m                        Traceback (most recent call last)",
            "\u001b[0;32m<ipython-input-7-ffc4549e78d7>\u001b[0m in \u001b[0;36m<module>\u001b[0;34m()\u001b[0m\n\u001b[1;32m      1\u001b[0m \u001b[0;34m\u001b[0m\u001b[0m\n\u001b[0;32m----> 2\u001b[0;31m \u001b[0mData_to_predict\u001b[0m \u001b[0;34m=\u001b[0m \u001b[0mquandl\u001b[0m\u001b[0;34m.\u001b[0m\u001b[0mget\u001b[0m\u001b[0;34m(\u001b[0m\u001b[0;34m\"FRBP/GDPPLUS_042619\"\u001b[0m\u001b[0;34m,\u001b[0m  \u001b[0mcollapse\u001b[0m\u001b[0;34m=\u001b[0m\u001b[0;34m\"quarterly\"\u001b[0m\u001b[0;34m)\u001b[0m\u001b[0;34m\u001b[0m\u001b[0;34m\u001b[0m\u001b[0m\n\u001b[0m\u001b[1;32m      3\u001b[0m \u001b[0mdatafive\u001b[0m \u001b[0;34m=\u001b[0m \u001b[0mquandl\u001b[0m\u001b[0;34m.\u001b[0m\u001b[0mget\u001b[0m\u001b[0;34m(\u001b[0m\u001b[0;34m\"FRED/PCETRIM1M158SFRBDAL\"\u001b[0m\u001b[0;34m,\u001b[0m  \u001b[0mcollapse\u001b[0m\u001b[0;34m=\u001b[0m\u001b[0;34m\"quarterly\"\u001b[0m\u001b[0;34m,\u001b[0m \u001b[0mstart_date\u001b[0m\u001b[0;34m=\u001b[0m\u001b[0;34m\"1977-02-01\"\u001b[0m\u001b[0;34m,\u001b[0m\u001b[0mend_date\u001b[0m\u001b[0;34m=\u001b[0m\u001b[0;34m\"2016-03-31\"\u001b[0m\u001b[0;34m)\u001b[0m\u001b[0;31m#quandl.get(\"FRED/VALEXPUSM052N\", authtoken=\"DNMZo2iRzVENxpxqHBKF\", transform=\"rdiff\", collapse=\"quarterly\", start_date=\"1960-09-30\")#quandl.get(\"WWDI/USA_NE_GDI_TOTL_CD\", authtoken=\"DNMZo2iRzVENxpxqHBKF\", start_date=\"1970-12-31\")\u001b[0m\u001b[0;34m\u001b[0m\u001b[0;34m\u001b[0m\u001b[0m\n\u001b[1;32m      4\u001b[0m \u001b[0mData_To_predict\u001b[0m \u001b[0;34m=\u001b[0m \u001b[0mData_to_predict\u001b[0m\u001b[0;34m.\u001b[0m\u001b[0mvalues\u001b[0m\u001b[0;34m\u001b[0m\u001b[0;34m\u001b[0m\u001b[0m\n\u001b[1;32m      5\u001b[0m \u001b[0;31m#the below column reduces the dimension of the data set by 1. We need to do this sometimes in order to put it into a pandas dataframe which we can easily manipulate\u001b[0m\u001b[0;34m\u001b[0m\u001b[0;34m\u001b[0m\u001b[0;34m\u001b[0m\u001b[0m\n",
            "\u001b[0;32m/usr/local/lib/python3.6/dist-packages/quandl/get.py\u001b[0m in \u001b[0;36mget\u001b[0;34m(dataset, **kwargs)\u001b[0m\n\u001b[1;32m     46\u001b[0m         \u001b[0;32mif\u001b[0m \u001b[0mdataset_args\u001b[0m\u001b[0;34m[\u001b[0m\u001b[0;34m'column_index'\u001b[0m\u001b[0;34m]\u001b[0m \u001b[0;32mis\u001b[0m \u001b[0;32mnot\u001b[0m \u001b[0;32mNone\u001b[0m\u001b[0;34m:\u001b[0m\u001b[0;34m\u001b[0m\u001b[0;34m\u001b[0m\u001b[0m\n\u001b[1;32m     47\u001b[0m             \u001b[0mkwargs\u001b[0m\u001b[0;34m.\u001b[0m\u001b[0mupdate\u001b[0m\u001b[0;34m(\u001b[0m\u001b[0;34m{\u001b[0m\u001b[0;34m'column_index'\u001b[0m\u001b[0;34m:\u001b[0m \u001b[0mdataset_args\u001b[0m\u001b[0;34m[\u001b[0m\u001b[0;34m'column_index'\u001b[0m\u001b[0;34m]\u001b[0m\u001b[0;34m}\u001b[0m\u001b[0;34m)\u001b[0m\u001b[0;34m\u001b[0m\u001b[0;34m\u001b[0m\u001b[0m\n\u001b[0;32m---> 48\u001b[0;31m         \u001b[0mdata\u001b[0m \u001b[0;34m=\u001b[0m \u001b[0mDataset\u001b[0m\u001b[0;34m(\u001b[0m\u001b[0mdataset_args\u001b[0m\u001b[0;34m[\u001b[0m\u001b[0;34m'code'\u001b[0m\u001b[0;34m]\u001b[0m\u001b[0;34m)\u001b[0m\u001b[0;34m.\u001b[0m\u001b[0mdata\u001b[0m\u001b[0;34m(\u001b[0m\u001b[0mparams\u001b[0m\u001b[0;34m=\u001b[0m\u001b[0mkwargs\u001b[0m\u001b[0;34m,\u001b[0m \u001b[0mhandle_column_not_found\u001b[0m\u001b[0;34m=\u001b[0m\u001b[0;32mTrue\u001b[0m\u001b[0;34m)\u001b[0m\u001b[0;34m\u001b[0m\u001b[0;34m\u001b[0m\u001b[0m\n\u001b[0m\u001b[1;32m     49\u001b[0m     \u001b[0;31m# Array\u001b[0m\u001b[0;34m\u001b[0m\u001b[0;34m\u001b[0m\u001b[0;34m\u001b[0m\u001b[0m\n\u001b[1;32m     50\u001b[0m     \u001b[0;32melif\u001b[0m \u001b[0misinstance\u001b[0m\u001b[0;34m(\u001b[0m\u001b[0mdataset\u001b[0m\u001b[0;34m,\u001b[0m \u001b[0mlist\u001b[0m\u001b[0;34m)\u001b[0m\u001b[0;34m:\u001b[0m\u001b[0;34m\u001b[0m\u001b[0;34m\u001b[0m\u001b[0m\n",
            "\u001b[0;32m/usr/local/lib/python3.6/dist-packages/quandl/model/dataset.py\u001b[0m in \u001b[0;36mdata\u001b[0;34m(self, **options)\u001b[0m\n\u001b[1;32m     45\u001b[0m         \u001b[0mupdated_options\u001b[0m \u001b[0;34m=\u001b[0m \u001b[0mUtil\u001b[0m\u001b[0;34m.\u001b[0m\u001b[0mmerge_options\u001b[0m\u001b[0;34m(\u001b[0m\u001b[0;34m'params'\u001b[0m\u001b[0;34m,\u001b[0m \u001b[0mparams\u001b[0m\u001b[0;34m,\u001b[0m \u001b[0;34m**\u001b[0m\u001b[0moptions\u001b[0m\u001b[0;34m)\u001b[0m\u001b[0;34m\u001b[0m\u001b[0;34m\u001b[0m\u001b[0m\n\u001b[1;32m     46\u001b[0m         \u001b[0;32mtry\u001b[0m\u001b[0;34m:\u001b[0m\u001b[0;34m\u001b[0m\u001b[0;34m\u001b[0m\u001b[0m\n\u001b[0;32m---> 47\u001b[0;31m             \u001b[0;32mreturn\u001b[0m \u001b[0mData\u001b[0m\u001b[0;34m.\u001b[0m\u001b[0mall\u001b[0m\u001b[0;34m(\u001b[0m\u001b[0;34m**\u001b[0m\u001b[0mupdated_options\u001b[0m\u001b[0;34m)\u001b[0m\u001b[0;34m\u001b[0m\u001b[0;34m\u001b[0m\u001b[0m\n\u001b[0m\u001b[1;32m     48\u001b[0m         \u001b[0;32mexcept\u001b[0m \u001b[0mNotFoundError\u001b[0m\u001b[0;34m:\u001b[0m\u001b[0;34m\u001b[0m\u001b[0;34m\u001b[0m\u001b[0m\n\u001b[1;32m     49\u001b[0m             \u001b[0;32mif\u001b[0m \u001b[0mhandle_not_found_error\u001b[0m\u001b[0;34m:\u001b[0m\u001b[0;34m\u001b[0m\u001b[0;34m\u001b[0m\u001b[0m\n",
            "\u001b[0;32m/usr/local/lib/python3.6/dist-packages/quandl/operations/list.py\u001b[0m in \u001b[0;36mall\u001b[0;34m(cls, **options)\u001b[0m\n\u001b[1;32m     13\u001b[0m             \u001b[0moptions\u001b[0m\u001b[0;34m[\u001b[0m\u001b[0;34m'params'\u001b[0m\u001b[0;34m]\u001b[0m \u001b[0;34m=\u001b[0m \u001b[0;34m{\u001b[0m\u001b[0;34m}\u001b[0m\u001b[0;34m\u001b[0m\u001b[0;34m\u001b[0m\u001b[0m\n\u001b[1;32m     14\u001b[0m         \u001b[0mpath\u001b[0m \u001b[0;34m=\u001b[0m \u001b[0mUtil\u001b[0m\u001b[0;34m.\u001b[0m\u001b[0mconstructed_path\u001b[0m\u001b[0;34m(\u001b[0m\u001b[0mcls\u001b[0m\u001b[0;34m.\u001b[0m\u001b[0mlist_path\u001b[0m\u001b[0;34m(\u001b[0m\u001b[0;34m)\u001b[0m\u001b[0;34m,\u001b[0m \u001b[0moptions\u001b[0m\u001b[0;34m[\u001b[0m\u001b[0;34m'params'\u001b[0m\u001b[0;34m]\u001b[0m\u001b[0;34m)\u001b[0m\u001b[0;34m\u001b[0m\u001b[0;34m\u001b[0m\u001b[0m\n\u001b[0;32m---> 15\u001b[0;31m         \u001b[0mr\u001b[0m \u001b[0;34m=\u001b[0m \u001b[0mConnection\u001b[0m\u001b[0;34m.\u001b[0m\u001b[0mrequest\u001b[0m\u001b[0;34m(\u001b[0m\u001b[0;34m'get'\u001b[0m\u001b[0;34m,\u001b[0m \u001b[0mpath\u001b[0m\u001b[0;34m,\u001b[0m \u001b[0;34m**\u001b[0m\u001b[0moptions\u001b[0m\u001b[0;34m)\u001b[0m\u001b[0;34m\u001b[0m\u001b[0;34m\u001b[0m\u001b[0m\n\u001b[0m\u001b[1;32m     16\u001b[0m         \u001b[0mresponse_data\u001b[0m \u001b[0;34m=\u001b[0m \u001b[0mr\u001b[0m\u001b[0;34m.\u001b[0m\u001b[0mjson\u001b[0m\u001b[0;34m(\u001b[0m\u001b[0;34m)\u001b[0m\u001b[0;34m\u001b[0m\u001b[0;34m\u001b[0m\u001b[0m\n\u001b[1;32m     17\u001b[0m         \u001b[0mUtil\u001b[0m\u001b[0;34m.\u001b[0m\u001b[0mconvert_to_dates\u001b[0m\u001b[0;34m(\u001b[0m\u001b[0mresponse_data\u001b[0m\u001b[0;34m)\u001b[0m\u001b[0;34m\u001b[0m\u001b[0;34m\u001b[0m\u001b[0m\n",
            "\u001b[0;32m/usr/local/lib/python3.6/dist-packages/quandl/connection.py\u001b[0m in \u001b[0;36mrequest\u001b[0;34m(cls, http_verb, url, **options)\u001b[0m\n\u001b[1;32m     36\u001b[0m         \u001b[0mabs_url\u001b[0m \u001b[0;34m=\u001b[0m \u001b[0;34m'%s/%s'\u001b[0m \u001b[0;34m%\u001b[0m \u001b[0;34m(\u001b[0m\u001b[0mApiConfig\u001b[0m\u001b[0;34m.\u001b[0m\u001b[0mapi_base\u001b[0m\u001b[0;34m,\u001b[0m \u001b[0murl\u001b[0m\u001b[0;34m)\u001b[0m\u001b[0;34m\u001b[0m\u001b[0;34m\u001b[0m\u001b[0m\n\u001b[1;32m     37\u001b[0m \u001b[0;34m\u001b[0m\u001b[0m\n\u001b[0;32m---> 38\u001b[0;31m         \u001b[0;32mreturn\u001b[0m \u001b[0mcls\u001b[0m\u001b[0;34m.\u001b[0m\u001b[0mexecute_request\u001b[0m\u001b[0;34m(\u001b[0m\u001b[0mhttp_verb\u001b[0m\u001b[0;34m,\u001b[0m \u001b[0mabs_url\u001b[0m\u001b[0;34m,\u001b[0m \u001b[0;34m**\u001b[0m\u001b[0moptions\u001b[0m\u001b[0;34m)\u001b[0m\u001b[0;34m\u001b[0m\u001b[0;34m\u001b[0m\u001b[0m\n\u001b[0m\u001b[1;32m     39\u001b[0m \u001b[0;34m\u001b[0m\u001b[0m\n\u001b[1;32m     40\u001b[0m     \u001b[0;34m@\u001b[0m\u001b[0mclassmethod\u001b[0m\u001b[0;34m\u001b[0m\u001b[0;34m\u001b[0m\u001b[0m\n",
            "\u001b[0;32m/usr/local/lib/python3.6/dist-packages/quandl/connection.py\u001b[0m in \u001b[0;36mexecute_request\u001b[0;34m(cls, http_verb, url, **options)\u001b[0m\n\u001b[1;32m     48\u001b[0m                                        **options)\n\u001b[1;32m     49\u001b[0m             \u001b[0;32mif\u001b[0m \u001b[0mresponse\u001b[0m\u001b[0;34m.\u001b[0m\u001b[0mstatus_code\u001b[0m \u001b[0;34m<\u001b[0m \u001b[0;36m200\u001b[0m \u001b[0;32mor\u001b[0m \u001b[0mresponse\u001b[0m\u001b[0;34m.\u001b[0m\u001b[0mstatus_code\u001b[0m \u001b[0;34m>=\u001b[0m \u001b[0;36m300\u001b[0m\u001b[0;34m:\u001b[0m\u001b[0;34m\u001b[0m\u001b[0;34m\u001b[0m\u001b[0m\n\u001b[0;32m---> 50\u001b[0;31m                 \u001b[0mcls\u001b[0m\u001b[0;34m.\u001b[0m\u001b[0mhandle_api_error\u001b[0m\u001b[0;34m(\u001b[0m\u001b[0mresponse\u001b[0m\u001b[0;34m)\u001b[0m\u001b[0;34m\u001b[0m\u001b[0;34m\u001b[0m\u001b[0m\n\u001b[0m\u001b[1;32m     51\u001b[0m             \u001b[0;32melse\u001b[0m\u001b[0;34m:\u001b[0m\u001b[0;34m\u001b[0m\u001b[0;34m\u001b[0m\u001b[0m\n\u001b[1;32m     52\u001b[0m                 \u001b[0;32mreturn\u001b[0m \u001b[0mresponse\u001b[0m\u001b[0;34m\u001b[0m\u001b[0;34m\u001b[0m\u001b[0m\n",
            "\u001b[0;32m/usr/local/lib/python3.6/dist-packages/quandl/connection.py\u001b[0m in \u001b[0;36mhandle_api_error\u001b[0;34m(cls, resp)\u001b[0m\n\u001b[1;32m    112\u001b[0m         \u001b[0mklass\u001b[0m \u001b[0;34m=\u001b[0m \u001b[0md_klass\u001b[0m\u001b[0;34m.\u001b[0m\u001b[0mget\u001b[0m\u001b[0;34m(\u001b[0m\u001b[0mcode_letter\u001b[0m\u001b[0;34m,\u001b[0m \u001b[0mQuandlError\u001b[0m\u001b[0;34m)\u001b[0m\u001b[0;34m\u001b[0m\u001b[0;34m\u001b[0m\u001b[0m\n\u001b[1;32m    113\u001b[0m \u001b[0;34m\u001b[0m\u001b[0m\n\u001b[0;32m--> 114\u001b[0;31m         \u001b[0;32mraise\u001b[0m \u001b[0mklass\u001b[0m\u001b[0;34m(\u001b[0m\u001b[0mmessage\u001b[0m\u001b[0;34m,\u001b[0m \u001b[0mresp\u001b[0m\u001b[0;34m.\u001b[0m\u001b[0mstatus_code\u001b[0m\u001b[0;34m,\u001b[0m \u001b[0mresp\u001b[0m\u001b[0;34m.\u001b[0m\u001b[0mtext\u001b[0m\u001b[0;34m,\u001b[0m \u001b[0mresp\u001b[0m\u001b[0;34m.\u001b[0m\u001b[0mheaders\u001b[0m\u001b[0;34m,\u001b[0m \u001b[0mcode\u001b[0m\u001b[0;34m)\u001b[0m\u001b[0;34m\u001b[0m\u001b[0;34m\u001b[0m\u001b[0m\n\u001b[0m",
            "\u001b[0;31mLimitExceededError\u001b[0m: (Status 429) (Quandl Error QELx01) You have exceeded the anonymous user limit of 50 calls per day. To make more calls today, please register for a free Quandl account and then include your API key with your requests."
          ]
        }
      ]
    },
    {
      "cell_type": "code",
      "metadata": {
        "id": "TItxs-oC31ud",
        "colab_type": "code",
        "outputId": "0651c411-ac78-41e2-8e34-55a1f18836f3",
        "colab": {
          "base_uri": "https://localhost:8080/",
          "height": 1000
        }
      },
      "source": [
        "#Standardize the data\n",
        "\n",
        "#note on minmaxScalar vs standard scalar using standard scalar is generally inadvisable because of the fact that standard scalar tries to force the data to conform to a standard normal distribution. if the data does not conform to a\n",
        "#standard normal distribution this can end up distorting the data. \n",
        "Scalar = MinMaxScaler(feature_range=(0,1))\n",
        "\n",
        "b = Scalar.fit_transform(datafive)\n",
        "\n",
        "#b = np.log10(b)\n",
        "\n",
        "\n",
        "plt.plot(datafive)\n",
        "print(b)"
      ],
      "execution_count": 0,
      "outputs": [
        {
          "output_type": "stream",
          "text": [
            "[[0.64537445]\n",
            " [0.6222467 ]\n",
            " [0.47907489]\n",
            " [0.54515419]\n",
            " [0.61123348]\n",
            " [0.64537445]\n",
            " [0.71696035]\n",
            " [0.62665198]\n",
            " [0.66079295]\n",
            " [0.70484581]\n",
            " [0.86894273]\n",
            " [0.8314978 ]\n",
            " [0.97907489]\n",
            " [0.91519824]\n",
            " [1.        ]\n",
            " [0.83259912]\n",
            " [0.73348018]\n",
            " [0.58810573]\n",
            " [0.74669604]\n",
            " [0.48898678]\n",
            " [0.49779736]\n",
            " [0.54405286]\n",
            " [0.27643172]\n",
            " [0.26321586]\n",
            " [0.18832599]\n",
            " [0.30837004]\n",
            " [0.39757709]\n",
            " [0.20594714]\n",
            " [0.38325991]\n",
            " [0.31828194]\n",
            " [0.3777533 ]\n",
            " [0.35132159]\n",
            " [0.37885463]\n",
            " [0.39757709]\n",
            " [0.32709251]\n",
            " [0.36123348]\n",
            " [0.12555066]\n",
            " [0.37334802]\n",
            " [0.34911894]\n",
            " [0.2753304 ]\n",
            " [0.37555066]\n",
            " [0.29515419]\n",
            " [0.31277533]\n",
            " [0.14647577]\n",
            " [0.35462555]\n",
            " [0.43281938]\n",
            " [0.52312775]\n",
            " [0.33590308]\n",
            " [0.36784141]\n",
            " [0.28193833]\n",
            " [0.31497797]\n",
            " [0.3623348 ]\n",
            " [0.53744493]\n",
            " [0.46475771]\n",
            " [0.30396476]\n",
            " [0.30726872]\n",
            " [0.15198238]\n",
            " [0.17070485]\n",
            " [0.28634361]\n",
            " [0.34581498]\n",
            " [0.26651982]\n",
            " [0.17290749]\n",
            " [0.10022026]\n",
            " [0.20704846]\n",
            " [0.18502203]\n",
            " [0.12555066]\n",
            " [0.16079295]\n",
            " [0.17180617]\n",
            " [0.26101322]\n",
            " [0.21475771]\n",
            " [0.1277533 ]\n",
            " [0.12555066]\n",
            " [0.20704846]\n",
            " [0.1123348 ]\n",
            " [0.14647577]\n",
            " [0.17621145]\n",
            " [0.21475771]\n",
            " [0.16079295]\n",
            " [0.22246696]\n",
            " [0.16189427]\n",
            " [0.14757709]\n",
            " [0.15418502]\n",
            " [0.20374449]\n",
            " [0.06057269]\n",
            " [0.20594714]\n",
            " [0.06718062]\n",
            " [0.13546256]\n",
            " [0.10242291]\n",
            " [0.10462555]\n",
            " [0.09361233]\n",
            " [0.1938326 ]\n",
            " [0.14537445]\n",
            " [0.25110132]\n",
            " [0.1685022 ]\n",
            " [0.280837  ]\n",
            " [0.18722467]\n",
            " [0.20044053]\n",
            " [0.28964758]\n",
            " [0.1277533 ]\n",
            " [0.08039648]\n",
            " [0.18832599]\n",
            " [0.15638767]\n",
            " [0.21365639]\n",
            " [0.11123348]\n",
            " [0.15638767]\n",
            " [0.04295154]\n",
            " [0.14317181]\n",
            " [0.12444934]\n",
            " [0.1685022 ]\n",
            " [0.20154185]\n",
            " [0.13986784]\n",
            " [0.14647577]\n",
            " [0.17621145]\n",
            " [0.11123348]\n",
            " [0.28414097]\n",
            " [0.11674009]\n",
            " [0.24008811]\n",
            " [0.33590308]\n",
            " [0.16079295]\n",
            " [0.26321586]\n",
            " [0.15528634]\n",
            " [0.21035242]\n",
            " [0.27643172]\n",
            " [0.22136564]\n",
            " [0.23237885]\n",
            " [0.27422907]\n",
            " [0.18832599]\n",
            " [0.05396476]\n",
            " [0.11123348]\n",
            " [0.09471366]\n",
            " [0.02973568]\n",
            " [0.00660793]\n",
            " [0.00110132]\n",
            " [0.        ]\n",
            " [0.06718062]\n",
            " [0.06718062]\n",
            " [0.17511013]\n",
            " [0.08810573]\n",
            " [0.12885463]\n",
            " [0.1530837 ]\n",
            " [0.17070485]\n",
            " [0.06057269]\n",
            " [0.13546256]\n",
            " [0.04845815]\n",
            " [0.10022026]\n",
            " [0.18502203]\n",
            " [0.12004405]\n",
            " [0.1222467 ]\n",
            " [0.13876652]\n",
            " [0.12665198]\n",
            " [0.13325991]\n",
            " [0.08370044]\n",
            " [0.1376652 ]\n",
            " [0.15859031]\n",
            " [0.11453744]\n",
            " [0.05506608]\n",
            " [0.13656388]]\n"
          ],
          "name": "stdout"
        },
        {
          "output_type": "display_data",
          "data": {
            "image/png": "[encoded data removed]",
            "text/plain": [
              "<Figure size 432x288 with 1 Axes>"
            ]
          },
          "metadata": {
            "tags": []
          }
        }
      ]
    },
    {
      "cell_type": "code",
      "metadata": {
        "id": "8o3bVkti34kj",
        "colab_type": "code",
        "colab": {}
      },
      "source": [
        "#filling and eliminating missing data filling and eliminating missing data\n",
        "#I think this one is about dropping the time index column from the data\n",
        "from sklearn.impute import SimpleImputer\n",
        "from scipy.stats.mstats import winsorize\n",
        "imp = SimpleImputer(missing_values=np.nan, strategy='mean')\n",
        "\n",
        "final_data = imp.fit_transform(datafive)\n",
        "#print(a)\n",
        "#datasix = datasix.drop(datasix.index[0])\n",
        "#Data_to_predict.values\n",
        "#datasix = datasix.dropna()\n",
        "#datafive = datafive.fillna(0)\n",
        "#unfortunately dropna() and fillna(0) are not very good solutions what if there were a better way?\n",
        "pca = PCA()# n_components=2 are the components in the dataset which we want to keep which have the greatest amount of correlation\n",
        "final_data = pca.fit_transform(final_data)\n",
        "\n",
        "#winsorization is for getting rid of outlier values in the data \n",
        "final_data = \twinsorize(final_data)\n",
        "\n",
        "\n",
        "final_data = pd.DataFrame(final_data)\n",
        "\n",
        "#this is basically selecting the first 224 values starting from the most initial value\n",
        "final_data_sub = final_data[224::]"
      ],
      "execution_count": 0,
      "outputs": []
    },
    {
      "cell_type": "code",
      "metadata": {
        "id": "Q2mX2tCtO4gp",
        "colab_type": "code",
        "outputId": "db838b0c-806c-4a73-d7a9-8a3ac7e91a27",
        "colab": {
          "base_uri": "https://localhost:8080/",
          "height": 400
        }
      },
      "source": [
        "#what if we want to use two or more datasets in order to predict values in the third dataset? or we want to a dataset which says what category that dataset is in? we can use pd.concat for that \n",
        "from sklearn.model_selection import train_test_split\n",
        "\n",
        "final_data= pd.concat([final_data,electricity],axis=1)# what this does is make sure that the datasets are connectet horizontally. so the other dataset basically becomes a second column in the new consolidated dataset. \n",
        "\n",
        "#if you want to do the splitting before putting it into a deep learning neural network then train_test_split is what is needed\n",
        "#whatever your y= will go here \n",
        "X_train, X_test, y_train, y_test = train_test_split(final_data, y, test_size=0.33, random_state=42)\n",
        "#.pca\n",
        "#you HAVE to convert your pandas dataframes into arrays before you can feed it into any ml or deep learning neural network or algorithm\n",
        "#higher order derivative(s) of values are easier for a machine learning algorithm to predict then the actual values\n",
        "electricity = np.array(electricity)\n",
        "#electricity = np.diff(electricity)\n",
        "final_data = np.array(final_data)\n",
        "final_data = np.diff(final_data)\n",
        "electricity = np.squeeze(electricity,axis=1)\n",
        "\n",
        "#generally you will only need to expand the number of dimensions of the dataset when you are working with RNNs or recurrent neural networks. \n",
        "electricity = np.expand_dims(electricity,axis=1)\n",
        "#this is dummy y data\n",
        "y = np.zeros(256)\n",
        "y = np.array(y)\n",
        "\n",
        "#again only something you are going to want to do if you are working with Recurrent neural networks\n",
        "X[:, None] \n"
      ],
      "execution_count": 0,
      "outputs": [
        {
          "output_type": "error",
          "ename": "TypeError",
          "evalue": "ignored",
          "traceback": [
            "\u001b[0;31m---------------------------------------------------------------------------\u001b[0m",
            "\u001b[0;31mTypeError\u001b[0m                                 Traceback (most recent call last)",
            "\u001b[0;32m<ipython-input-12-5e80a983f296>\u001b[0m in \u001b[0;36m<module>\u001b[0;34m()\u001b[0m\n\u001b[1;32m      1\u001b[0m \u001b[0;32mfrom\u001b[0m \u001b[0msklearn\u001b[0m\u001b[0;34m.\u001b[0m\u001b[0mmodel_selection\u001b[0m \u001b[0;32mimport\u001b[0m \u001b[0mtrain_test_split\u001b[0m\u001b[0;34m\u001b[0m\u001b[0;34m\u001b[0m\u001b[0m\n\u001b[1;32m      2\u001b[0m \u001b[0;34m\u001b[0m\u001b[0m\n\u001b[0;32m----> 3\u001b[0;31m \u001b[0mfinal_data\u001b[0m\u001b[0;34m=\u001b[0m \u001b[0mpd\u001b[0m\u001b[0;34m.\u001b[0m\u001b[0mconcat\u001b[0m\u001b[0;34m(\u001b[0m\u001b[0;34m[\u001b[0m\u001b[0mfinal_data\u001b[0m\u001b[0;34m,\u001b[0m\u001b[0melectricity\u001b[0m\u001b[0;34m]\u001b[0m\u001b[0;34m,\u001b[0m\u001b[0maxis\u001b[0m\u001b[0;34m=\u001b[0m\u001b[0;36m1\u001b[0m\u001b[0;34m)\u001b[0m\u001b[0;31m# what this does is make sure that the datasets are connectet horizontally. so the other dataset basically becomes a second column in the new consolidated dataset.\u001b[0m\u001b[0;34m\u001b[0m\u001b[0;34m\u001b[0m\u001b[0m\n\u001b[0m\u001b[1;32m      4\u001b[0m \u001b[0;34m\u001b[0m\u001b[0m\n\u001b[1;32m      5\u001b[0m \u001b[0;31m#.pca\u001b[0m\u001b[0;34m\u001b[0m\u001b[0;34m\u001b[0m\u001b[0;34m\u001b[0m\u001b[0m\n",
            "\u001b[0;32m/usr/local/lib/python3.6/dist-packages/pandas/core/reshape/concat.py\u001b[0m in \u001b[0;36mconcat\u001b[0;34m(objs, axis, join, join_axes, ignore_index, keys, levels, names, verify_integrity, sort, copy)\u001b[0m\n\u001b[1;32m    253\u001b[0m         \u001b[0mverify_integrity\u001b[0m\u001b[0;34m=\u001b[0m\u001b[0mverify_integrity\u001b[0m\u001b[0;34m,\u001b[0m\u001b[0;34m\u001b[0m\u001b[0;34m\u001b[0m\u001b[0m\n\u001b[1;32m    254\u001b[0m         \u001b[0mcopy\u001b[0m\u001b[0;34m=\u001b[0m\u001b[0mcopy\u001b[0m\u001b[0;34m,\u001b[0m\u001b[0;34m\u001b[0m\u001b[0;34m\u001b[0m\u001b[0m\n\u001b[0;32m--> 255\u001b[0;31m         \u001b[0msort\u001b[0m\u001b[0;34m=\u001b[0m\u001b[0msort\u001b[0m\u001b[0;34m,\u001b[0m\u001b[0;34m\u001b[0m\u001b[0;34m\u001b[0m\u001b[0m\n\u001b[0m\u001b[1;32m    256\u001b[0m     )\n\u001b[1;32m    257\u001b[0m \u001b[0;34m\u001b[0m\u001b[0m\n",
            "\u001b[0;32m/usr/local/lib/python3.6/dist-packages/pandas/core/reshape/concat.py\u001b[0m in \u001b[0;36m__init__\u001b[0;34m(self, objs, axis, join, join_axes, keys, levels, names, ignore_index, verify_integrity, copy, sort)\u001b[0m\n\u001b[1;32m    330\u001b[0m                     \u001b[0;34m\" only Series and DataFrame objs are valid\"\u001b[0m\u001b[0;34m.\u001b[0m\u001b[0mformat\u001b[0m\u001b[0;34m(\u001b[0m\u001b[0mtype\u001b[0m\u001b[0;34m(\u001b[0m\u001b[0mobj\u001b[0m\u001b[0;34m)\u001b[0m\u001b[0;34m)\u001b[0m\u001b[0;34m\u001b[0m\u001b[0;34m\u001b[0m\u001b[0m\n\u001b[1;32m    331\u001b[0m                 )\n\u001b[0;32m--> 332\u001b[0;31m                 \u001b[0;32mraise\u001b[0m \u001b[0mTypeError\u001b[0m\u001b[0;34m(\u001b[0m\u001b[0mmsg\u001b[0m\u001b[0;34m)\u001b[0m\u001b[0;34m\u001b[0m\u001b[0;34m\u001b[0m\u001b[0m\n\u001b[0m\u001b[1;32m    333\u001b[0m \u001b[0;34m\u001b[0m\u001b[0m\n\u001b[1;32m    334\u001b[0m             \u001b[0;31m# consolidate\u001b[0m\u001b[0;34m\u001b[0m\u001b[0;34m\u001b[0m\u001b[0;34m\u001b[0m\u001b[0m\n",
            "\u001b[0;31mTypeError\u001b[0m: cannot concatenate object of type '<class 'numpy.ndarray'>'; only Series and DataFrame objs are valid"
          ]
        }
      ]
    },
    {
      "cell_type": "code",
      "metadata": {
        "id": "BRBu-Ha54oNW",
        "colab_type": "code",
        "colab": {}
      },
      "source": [
        "#the above is generally not needed however because tensorflow allows you to split it during the fitting phase and once can simply manually slice\n",
        "#the arrays \n",
        "#model.fit(X,Y,epochs=700, verbose=1,validation_split=0.2)\n",
        "\n",
        "final_data = np.squeeze(final_data)\n",
        "plt.plot(final_data)\n",
        "#if enough time reamains go into various data visualization such as data decomposition, graphing and confidence intervals sns library. "
      ],
      "execution_count": 0,
      "outputs": []
    },
    {
      "cell_type": "markdown",
      "metadata": {
        "id": "T2uGhlfEByPq",
        "colab_type": "text"
      },
      "source": [
        "Part two starts from here "
      ]
    },
    {
      "cell_type": "code",
      "metadata": {
        "id": "IYRgvzpgB0xl",
        "colab_type": "code",
        "colab": {
          "base_uri": "https://localhost:8080/",
          "height": 905
        },
        "outputId": "86e7230b-493b-4c89-e271-d1e23f1475a0"
      },
      "source": [
        "!pip install tensorflow==2.0.0-beta1\n",
        "#!pip install tensorflow==2.0.0rc0\n",
        "#!pip install tensorflow-probability\n",
        "#!pip install gaussian_processes\n",
        "!pip install quandl\n",
        "#!pip install rpy2\n",
        "!pip install bootstrapped\n",
        "!pip install hurst"
      ],
      "execution_count": 16,
      "outputs": [
        {
          "output_type": "stream",
          "text": [
            "Requirement already satisfied: tensorflow==2.0.0-beta1 in /usr/local/lib/python3.6/dist-packages (2.0.0b1)\n",
            "Requirement already satisfied: gast>=0.2.0 in /usr/local/lib/python3.6/dist-packages (from tensorflow==2.0.0-beta1) (0.2.2)\n",
            "Requirement already satisfied: protobuf>=3.6.1 in /usr/local/lib/python3.6/dist-packages (from tensorflow==2.0.0-beta1) (3.10.0)\n",
            "Requirement already satisfied: keras-preprocessing>=1.0.5 in /usr/local/lib/python3.6/dist-packages (from tensorflow==2.0.0-beta1) (1.1.0)\n",
            "Requirement already satisfied: six>=1.10.0 in /usr/local/lib/python3.6/dist-packages (from tensorflow==2.0.0-beta1) (1.12.0)\n",
            "Requirement already satisfied: tb-nightly<1.14.0a20190604,>=1.14.0a20190603 in /usr/local/lib/python3.6/dist-packages (from tensorflow==2.0.0-beta1) (1.14.0a20190603)\n",
            "Requirement already satisfied: tf-estimator-nightly<1.14.0.dev2019060502,>=1.14.0.dev2019060501 in /usr/local/lib/python3.6/dist-packages (from tensorflow==2.0.0-beta1) (1.14.0.dev2019060501)\n",
            "Requirement already satisfied: wheel>=0.26 in /usr/local/lib/python3.6/dist-packages (from tensorflow==2.0.0-beta1) (0.34.2)\n",
            "Requirement already satisfied: keras-applications>=1.0.6 in /usr/local/lib/python3.6/dist-packages (from tensorflow==2.0.0-beta1) (1.0.8)\n",
            "Requirement already satisfied: wrapt>=1.11.1 in /usr/local/lib/python3.6/dist-packages (from tensorflow==2.0.0-beta1) (1.11.2)\n",
            "Requirement already satisfied: astor>=0.6.0 in /usr/local/lib/python3.6/dist-packages (from tensorflow==2.0.0-beta1) (0.8.1)\n",
            "Requirement already satisfied: google-pasta>=0.1.6 in /usr/local/lib/python3.6/dist-packages (from tensorflow==2.0.0-beta1) (0.1.8)\n",
            "Requirement already satisfied: grpcio>=1.8.6 in /usr/local/lib/python3.6/dist-packages (from tensorflow==2.0.0-beta1) (1.27.1)\n",
            "Requirement already satisfied: numpy<2.0,>=1.14.5 in /usr/local/lib/python3.6/dist-packages (from tensorflow==2.0.0-beta1) (1.17.5)\n",
            "Requirement already satisfied: termcolor>=1.1.0 in /usr/local/lib/python3.6/dist-packages (from tensorflow==2.0.0-beta1) (1.1.0)\n",
            "Requirement already satisfied: absl-py>=0.7.0 in /usr/local/lib/python3.6/dist-packages (from tensorflow==2.0.0-beta1) (0.9.0)\n",
            "Requirement already satisfied: setuptools in /usr/local/lib/python3.6/dist-packages (from protobuf>=3.6.1->tensorflow==2.0.0-beta1) (45.1.0)\n",
            "Requirement already satisfied: markdown>=2.6.8 in /usr/local/lib/python3.6/dist-packages (from tb-nightly<1.14.0a20190604,>=1.14.0a20190603->tensorflow==2.0.0-beta1) (3.2.1)\n",
            "Requirement already satisfied: werkzeug>=0.11.15 in /usr/local/lib/python3.6/dist-packages (from tb-nightly<1.14.0a20190604,>=1.14.0a20190603->tensorflow==2.0.0-beta1) (1.0.0)\n",
            "Requirement already satisfied: h5py in /usr/local/lib/python3.6/dist-packages (from keras-applications>=1.0.6->tensorflow==2.0.0-beta1) (2.8.0)\n",
            "Requirement already satisfied: quandl in /usr/local/lib/python3.6/dist-packages (3.5.0)\n",
            "Requirement already satisfied: six in /usr/local/lib/python3.6/dist-packages (from quandl) (1.12.0)\n",
            "Requirement already satisfied: requests>=2.7.0 in /usr/local/lib/python3.6/dist-packages (from quandl) (2.21.0)\n",
            "Requirement already satisfied: python-dateutil in /usr/local/lib/python3.6/dist-packages (from quandl) (2.6.1)\n",
            "Requirement already satisfied: inflection>=0.3.1 in /usr/local/lib/python3.6/dist-packages (from quandl) (0.3.1)\n",
            "Requirement already satisfied: numpy>=1.8 in /usr/local/lib/python3.6/dist-packages (from quandl) (1.17.5)\n",
            "Requirement already satisfied: more-itertools in /usr/local/lib/python3.6/dist-packages (from quandl) (8.2.0)\n",
            "Requirement already satisfied: pandas>=0.14 in /usr/local/lib/python3.6/dist-packages (from quandl) (0.25.3)\n",
            "Requirement already satisfied: chardet<3.1.0,>=3.0.2 in /usr/local/lib/python3.6/dist-packages (from requests>=2.7.0->quandl) (3.0.4)\n",
            "Requirement already satisfied: idna<2.9,>=2.5 in /usr/local/lib/python3.6/dist-packages (from requests>=2.7.0->quandl) (2.8)\n",
            "Requirement already satisfied: certifi>=2017.4.17 in /usr/local/lib/python3.6/dist-packages (from requests>=2.7.0->quandl) (2019.11.28)\n",
            "Requirement already satisfied: urllib3<1.25,>=1.21.1 in /usr/local/lib/python3.6/dist-packages (from requests>=2.7.0->quandl) (1.24.3)\n",
            "Requirement already satisfied: pytz>=2017.2 in /usr/local/lib/python3.6/dist-packages (from pandas>=0.14->quandl) (2018.9)\n",
            "Requirement already satisfied: bootstrapped in /usr/local/lib/python3.6/dist-packages (0.0.2)\n",
            "Requirement already satisfied: matplotlib>=1.5.3 in /usr/local/lib/python3.6/dist-packages (from bootstrapped) (3.1.3)\n",
            "Requirement already satisfied: pandas>=0.18.1 in /usr/local/lib/python3.6/dist-packages (from bootstrapped) (0.25.3)\n",
            "Requirement already satisfied: numpy>=1.11.1 in /usr/local/lib/python3.6/dist-packages (from bootstrapped) (1.17.5)\n",
            "Requirement already satisfied: cycler>=0.10 in /usr/local/lib/python3.6/dist-packages (from matplotlib>=1.5.3->bootstrapped) (0.10.0)\n",
            "Requirement already satisfied: kiwisolver>=1.0.1 in /usr/local/lib/python3.6/dist-packages (from matplotlib>=1.5.3->bootstrapped) (1.1.0)\n",
            "Requirement already satisfied: python-dateutil>=2.1 in /usr/local/lib/python3.6/dist-packages (from matplotlib>=1.5.3->bootstrapped) (2.6.1)\n",
            "Requirement already satisfied: pyparsing!=2.0.4,!=2.1.2,!=2.1.6,>=2.0.1 in /usr/local/lib/python3.6/dist-packages (from matplotlib>=1.5.3->bootstrapped) (2.4.6)\n",
            "Requirement already satisfied: pytz>=2017.2 in /usr/local/lib/python3.6/dist-packages (from pandas>=0.18.1->bootstrapped) (2018.9)\n",
            "Requirement already satisfied: six in /usr/local/lib/python3.6/dist-packages (from cycler>=0.10->matplotlib>=1.5.3->bootstrapped) (1.12.0)\n",
            "Requirement already satisfied: setuptools in /usr/local/lib/python3.6/dist-packages (from kiwisolver>=1.0.1->matplotlib>=1.5.3->bootstrapped) (45.1.0)\n",
            "Requirement already satisfied: hurst in /usr/local/lib/python3.6/dist-packages (0.0.5)\n",
            "Requirement already satisfied: pandas>=0.18 in /usr/local/lib/python3.6/dist-packages (from hurst) (0.25.3)\n",
            "Requirement already satisfied: numpy>=1.10 in /usr/local/lib/python3.6/dist-packages (from hurst) (1.17.5)\n",
            "Requirement already satisfied: pytz>=2017.2 in /usr/local/lib/python3.6/dist-packages (from pandas>=0.18->hurst) (2018.9)\n",
            "Requirement already satisfied: python-dateutil>=2.6.1 in /usr/local/lib/python3.6/dist-packages (from pandas>=0.18->hurst) (2.6.1)\n",
            "Requirement already satisfied: six>=1.5 in /usr/local/lib/python3.6/dist-packages (from python-dateutil>=2.6.1->pandas>=0.18->hurst) (1.12.0)\n"
          ],
          "name": "stdout"
        }
      ]
    },
    {
      "cell_type": "code",
      "metadata": {
        "id": "6vP7mnY6B4rr",
        "colab_type": "code",
        "colab": {}
      },
      "source": [
        "import tensorflow as tf\n",
        "#import tensorflow_probability as tfp\n",
        "import quandl\n",
        "import numpy as np\n",
        "import matplotlib.pyplot as plt\n",
        "from sklearn.preprocessing import MinMaxScaler\n",
        "import rpy2\n",
        "#from rpy2.robjects.packages import importr\n",
        "from sklearn.decomposition import PCA, KernelPCA\n",
        "#import sherpa"
      ],
      "execution_count": 0,
      "outputs": []
    },
    {
      "cell_type": "markdown",
      "metadata": {
        "id": "92kvs2q9VxjV",
        "colab_type": "text"
      },
      "source": [
        "Now we will do classifcation in the functional instead of sequential form. The functional form is considered more powerful because it among other things allows for more flexibility such as connecting layers at different levels to on another. \n",
        "\n",
        "Note: I use MSLE and ADagrad because those are the optimizers and losses which work best for me. However the standard \"default optimizer and loss to use is MSE and ADAM respectively for regression and binary crossentropy for 2 category classifcation algorithms and categorical crossentropy as the default loss function for classification algorithms with more then two buckets\n",
        "\n",
        "Take a look at the last layer of the neural network. One of the things which must be kept in mind is that the number of nodes in a neural netowork of the last layer MUST equal the number of buckets for our data. Also a sigmoid activation function is generally the standard activation function to use in the final layer of classifcation neural network"
      ]
    },
    {
      "cell_type": "code",
      "metadata": {
        "id": "mUDKBHkasbSd",
        "colab_type": "code",
        "colab": {}
      },
      "source": [
        "from sklearn.datasets import load_iris, fetch_california_housing\n",
        "\n",
        "data = load_iris()\n",
        "print(data)\n",
        "print(data['target'])"
      ],
      "execution_count": 0,
      "outputs": []
    },
    {
      "cell_type": "code",
      "metadata": {
        "id": "_7sHudVXFP7p",
        "colab_type": "code",
        "colab": {}
      },
      "source": [
        "#DNN for regression\n",
        "\n",
        "X_full, y_full = fetch_california_housing(return_X_y=True)\n",
        "Scalar = MinMaxScaler(feature_range=(0,1))\n",
        "#Scalar.fit_transform(X_full)\n",
        "#Scalar.fit_transform(y_full)\n",
        "pca = PCA()# n_components=2 are the components in the dataset which we want to keep which have the greatest amount of correlation\n",
        "#X_full = Scalar.fit_transform(X_full)\n",
        "#y_full = Scalar.fit_transform(y_full)\n",
        "#X_full = pca.fit_transform(X_full)\n",
        "#\n",
        "print(X_full)\n",
        "print(X_full.shape)\n",
        "model = tf.keras.Sequential([\n",
        "\ttf.keras.Input(shape=(8,), dtype=x.dtype),\n",
        "  tf.keras.layers.Dense(25,kernel_initializer='ones', dtype = x.dtype, use_bias=False),\n",
        "  #tf.keras.layers.InputLayer(input_shape=(10),dtype=x.dtype),#put a 1 before the 9 later\n",
        "  tf.keras.layers.Dense(50,kernel_initializer='ones', use_bias=False),\n",
        "  tf.keras.layers.BatchNormalization(),\n",
        "  tf.keras.layers.Dense(25,kernel_initializer='ones', use_bias=False)\n",
        "])\n",
        "\n",
        "\n",
        "\n",
        "model.compile(optimizer='Adam',\n",
        "        loss='MSLE')\n",
        "\t\n",
        "model.fit(X_full,y_full,epochs=100, verbose=1,validation_split=0.2)#, callbacks=[early_stop])\n",
        "\n",
        "Prediction = model.predict(X_full[120::])\n",
        "print(Prediction)\n",
        "print(Prediction.shape)\n",
        "u = 219\n",
        "model.summary()\n",
        "\n",
        "plt.plot(Prediction)\n",
        "plt.plot(y_full[120::])"
      ],
      "execution_count": 0,
      "outputs": []
    },
    {
      "cell_type": "code",
      "metadata": {
        "id": "WU1PlXHoGKLW",
        "colab_type": "code",
        "colab": {
          "base_uri": "https://localhost:8080/",
          "height": 1000
        },
        "outputId": "455c531a-51c7-4e42-ad58-19eed58a6920"
      },
      "source": [
        "from sklearn.datasets import load_wine\n",
        "import pandas as pd\n",
        "\n",
        "from keras.utils import to_categorical\n",
        "#x = data['data']\n",
        "#print(x.shape)\n",
        "\n",
        "#y = data['target']\n",
        "\n",
        "#print(a)\n",
        "\n",
        "#TODO: construct the output array manually by filling 3 arrays each with 50 0s 50 ones and 50 twos\n",
        "\n",
        "X, y = load_wine(return_X_y=True)\n",
        "#y = pd.DataFrame(y)\n",
        "print(X)\n",
        "print(y)\n",
        "from keras.utils import to_categorical\n",
        "y= to_categorical(y)\n",
        "print(X.shape)\n",
        "print(y.shape)\n",
        "#stack y \n",
        "#print(y)\n",
        "#print(y.shape)\n",
        "inputs = tf.keras.Input(shape=(13,))#Input(shape=(1,3))#Debt_data_change_of_change \n",
        "first = tf.keras.layers.Dense(10, activation='relu')(inputs)\n",
        "A = tf.keras.layers.Dense(400, activation='relu')(first)    \n",
        "x = tf.keras.layers.Dense(800, activation='relu')(A)#remeber the prediction probably needs to be shifted back two before it can actually be compared to actual\n",
        "x = tf.keras.layers.Dense(400,activation='relu')(x)\n",
        "x = tf.keras.layers.Dense(10,activation='relu')(x)\n",
        " #\n",
        "outputs = tf.keras.layers.Dense(3, activation='sigmoid')(x)\n",
        "model = tf.keras.Model(inputs = inputs, outputs = outputs)\n",
        "loss = tf.keras.losses.CategoricalCrossentropy()\n",
        "optimizer = tf.keras.optimizers.RMSprop\n",
        "#Use categorial crossentropy when doing stuff\n",
        "model.compile(optimizer='Adam',\n",
        "        loss=loss, metrics=['accuracy'])\n",
        "\t\n",
        "model.fit(X,y,epochs=10, verbose=1,validation_split=0.2)#, callbacks=[early_stop])\n",
        "\n",
        "Prediction = model.predict(X)\n",
        "#print(Prediction)\n",
        "\n",
        "print(Prediction.shape)\n",
        "u = 219\n",
        "model.summary()"
      ],
      "execution_count": 36,
      "outputs": [
        {
          "output_type": "stream",
          "text": [
            "[[1.423e+01 1.710e+00 2.430e+00 ... 1.040e+00 3.920e+00 1.065e+03]\n",
            " [1.320e+01 1.780e+00 2.140e+00 ... 1.050e+00 3.400e+00 1.050e+03]\n",
            " [1.316e+01 2.360e+00 2.670e+00 ... 1.030e+00 3.170e+00 1.185e+03]\n",
            " ...\n",
            " [1.327e+01 4.280e+00 2.260e+00 ... 5.900e-01 1.560e+00 8.350e+02]\n",
            " [1.317e+01 2.590e+00 2.370e+00 ... 6.000e-01 1.620e+00 8.400e+02]\n",
            " [1.413e+01 4.100e+00 2.740e+00 ... 6.100e-01 1.600e+00 5.600e+02]]\n",
            "[0 0 0 0 0 0 0 0 0 0 0 0 0 0 0 0 0 0 0 0 0 0 0 0 0 0 0 0 0 0 0 0 0 0 0 0 0\n",
            " 0 0 0 0 0 0 0 0 0 0 0 0 0 0 0 0 0 0 0 0 0 0 1 1 1 1 1 1 1 1 1 1 1 1 1 1 1\n",
            " 1 1 1 1 1 1 1 1 1 1 1 1 1 1 1 1 1 1 1 1 1 1 1 1 1 1 1 1 1 1 1 1 1 1 1 1 1\n",
            " 1 1 1 1 1 1 1 1 1 1 1 1 1 1 1 1 1 1 1 2 2 2 2 2 2 2 2 2 2 2 2 2 2 2 2 2 2\n",
            " 2 2 2 2 2 2 2 2 2 2 2 2 2 2 2 2 2 2 2 2 2 2 2 2 2 2 2 2 2 2]\n",
            "(178, 13)\n",
            "(178, 3)\n",
            "Train on 142 samples, validate on 36 samples\n",
            "Epoch 1/10\n",
            "142/142 [==============================] - 1s 5ms/sample - loss: 6.3000 - acc: 0.4155 - val_loss: 6.1642 - val_acc: 0.0000e+00\n",
            "Epoch 2/10\n",
            "142/142 [==============================] - 0s 508us/sample - loss: 1.2249 - acc: 0.5000 - val_loss: 7.4778 - val_acc: 0.0000e+00\n",
            "Epoch 3/10\n",
            "142/142 [==============================] - 0s 431us/sample - loss: 1.1793 - acc: 0.5000 - val_loss: 5.3347 - val_acc: 0.0000e+00\n",
            "Epoch 4/10\n",
            "142/142 [==============================] - 0s 513us/sample - loss: 0.9600 - acc: 0.5000 - val_loss: 2.4256 - val_acc: 0.0000e+00\n",
            "Epoch 5/10\n",
            "142/142 [==============================] - 0s 510us/sample - loss: 0.9130 - acc: 0.5000 - val_loss: 1.8783 - val_acc: 0.0000e+00\n",
            "Epoch 6/10\n",
            "142/142 [==============================] - 0s 446us/sample - loss: 0.8854 - acc: 0.5000 - val_loss: 2.9503 - val_acc: 0.0000e+00\n",
            "Epoch 7/10\n",
            "142/142 [==============================] - 0s 475us/sample - loss: 0.8900 - acc: 0.5000 - val_loss: 3.3031 - val_acc: 0.0000e+00\n",
            "Epoch 8/10\n",
            "142/142 [==============================] - 0s 437us/sample - loss: 0.8953 - acc: 0.5000 - val_loss: 2.8390 - val_acc: 0.0000e+00\n",
            "Epoch 9/10\n",
            "142/142 [==============================] - 0s 448us/sample - loss: 0.8772 - acc: 0.5000 - val_loss: 2.2569 - val_acc: 0.0000e+00\n",
            "Epoch 10/10\n",
            "142/142 [==============================] - 0s 484us/sample - loss: 0.8680 - acc: 0.5000 - val_loss: 2.3593 - val_acc: 0.0000e+00\n",
            "(178, 3)\n",
            "Model: \"model_19\"\n",
            "_________________________________________________________________\n",
            "Layer (type)                 Output Shape              Param #   \n",
            "=================================================================\n",
            "input_20 (InputLayer)        [(None, 13)]              0         \n",
            "_________________________________________________________________\n",
            "dense_114 (Dense)            (None, 10)                140       \n",
            "_________________________________________________________________\n",
            "dense_115 (Dense)            (None, 400)               4400      \n",
            "_________________________________________________________________\n",
            "dense_116 (Dense)            (None, 800)               320800    \n",
            "_________________________________________________________________\n",
            "dense_117 (Dense)            (None, 400)               320400    \n",
            "_________________________________________________________________\n",
            "dense_118 (Dense)            (None, 10)                4010      \n",
            "_________________________________________________________________\n",
            "dense_119 (Dense)            (None, 3)                 33        \n",
            "=================================================================\n",
            "Total params: 649,783\n",
            "Trainable params: 649,783\n",
            "Non-trainable params: 0\n",
            "_________________________________________________________________\n"
          ],
          "name": "stdout"
        }
      ]
    }
  ]
}